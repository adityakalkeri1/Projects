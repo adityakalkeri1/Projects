{
 "cells": [
  {
   "cell_type": "markdown",
   "metadata": {},
   "source": [
    "# Importing Packages"
   ]
  },
  {
   "cell_type": "code",
   "execution_count": 1,
   "metadata": {},
   "outputs": [],
   "source": [
    "import sqlite3\n",
    "import pandas as pd\n",
    "import numpy as np\n",
    "import matplotlib.pyplot as plt\n",
    "import seaborn as sns"
   ]
  },
  {
   "cell_type": "code",
   "execution_count": 2,
   "metadata": {},
   "outputs": [],
   "source": [
    "import warnings\n",
    "warnings.filterwarnings('ignore')"
   ]
  },
  {
   "cell_type": "markdown",
   "metadata": {},
   "source": [
    "# Extracting Data from source"
   ]
  },
  {
   "cell_type": "code",
   "execution_count": 3,
   "metadata": {},
   "outputs": [],
   "source": [
    "# Establishing connection\n",
    "conn = sqlite3.connect('cleaned_credit_fraud_data.db')\n",
    "# Creating a cursor object\n",
    "cursor = conn.cursor()"
   ]
  },
  {
   "cell_type": "code",
   "execution_count": 4,
   "metadata": {},
   "outputs": [],
   "source": [
    "# Querying the data\n",
    "cursor.execute('SELECT * FROM fraudTrain')\n",
    "data = cursor.fetchall()\n",
    "\n",
    "columns = [i[0] for i in cursor.description]\n",
    "# Extracting the data into pandas dataframe\n",
    "df = pd.DataFrame(data, columns = columns)"
   ]
  },
  {
   "cell_type": "code",
   "execution_count": 5,
   "metadata": {},
   "outputs": [
    {
     "data": {
      "text/html": [
       "<div>\n",
       "<style scoped>\n",
       "    .dataframe tbody tr th:only-of-type {\n",
       "        vertical-align: middle;\n",
       "    }\n",
       "\n",
       "    .dataframe tbody tr th {\n",
       "        vertical-align: top;\n",
       "    }\n",
       "\n",
       "    .dataframe thead th {\n",
       "        text-align: right;\n",
       "    }\n",
       "</style>\n",
       "<table border=\"1\" class=\"dataframe\">\n",
       "  <thead>\n",
       "    <tr style=\"text-align: right;\">\n",
       "      <th></th>\n",
       "      <th>field1</th>\n",
       "      <th>trans_date_trans_time</th>\n",
       "      <th>cc_num</th>\n",
       "      <th>merchant</th>\n",
       "      <th>category</th>\n",
       "      <th>amt</th>\n",
       "      <th>gender</th>\n",
       "      <th>street</th>\n",
       "      <th>city</th>\n",
       "      <th>state</th>\n",
       "      <th>...</th>\n",
       "      <th>lat</th>\n",
       "      <th>long</th>\n",
       "      <th>city_pop</th>\n",
       "      <th>job</th>\n",
       "      <th>merch_lat</th>\n",
       "      <th>merch_long</th>\n",
       "      <th>is_fraud</th>\n",
       "      <th>distance</th>\n",
       "      <th>full_name</th>\n",
       "      <th>age</th>\n",
       "    </tr>\n",
       "  </thead>\n",
       "  <tbody>\n",
       "    <tr>\n",
       "      <th>0</th>\n",
       "      <td>0</td>\n",
       "      <td>2019-01-01 00:00:18</td>\n",
       "      <td>2.703186e+15</td>\n",
       "      <td>Rippin, Kub and Mann</td>\n",
       "      <td>misc_net</td>\n",
       "      <td>4.97</td>\n",
       "      <td>F</td>\n",
       "      <td>Perry Cove</td>\n",
       "      <td>Moravian Falls</td>\n",
       "      <td>NC</td>\n",
       "      <td>...</td>\n",
       "      <td>36.0788</td>\n",
       "      <td>-81.1781</td>\n",
       "      <td>3495</td>\n",
       "      <td>Psychologist, counselling</td>\n",
       "      <td>36.011293</td>\n",
       "      <td>-82.048315</td>\n",
       "      <td>0</td>\n",
       "      <td>78.597680</td>\n",
       "      <td>Jennifer Banks</td>\n",
       "      <td>30</td>\n",
       "    </tr>\n",
       "    <tr>\n",
       "      <th>1</th>\n",
       "      <td>1</td>\n",
       "      <td>2019-01-01 00:00:44</td>\n",
       "      <td>6.304233e+11</td>\n",
       "      <td>Heller, Gutmann and Zieme</td>\n",
       "      <td>grocery_pos</td>\n",
       "      <td>107.23</td>\n",
       "      <td>F</td>\n",
       "      <td>Riley Greens Suite</td>\n",
       "      <td>Orient</td>\n",
       "      <td>WA</td>\n",
       "      <td>...</td>\n",
       "      <td>48.8878</td>\n",
       "      <td>-118.2105</td>\n",
       "      <td>149</td>\n",
       "      <td>Special educational needs teacher</td>\n",
       "      <td>49.159047</td>\n",
       "      <td>-118.186462</td>\n",
       "      <td>0</td>\n",
       "      <td>30.212218</td>\n",
       "      <td>Stephanie Gill</td>\n",
       "      <td>40</td>\n",
       "    </tr>\n",
       "    <tr>\n",
       "      <th>2</th>\n",
       "      <td>2</td>\n",
       "      <td>2019-01-01 00:00:51</td>\n",
       "      <td>3.885949e+13</td>\n",
       "      <td>Lind-Buckridge</td>\n",
       "      <td>entertainment</td>\n",
       "      <td>220.11</td>\n",
       "      <td>M</td>\n",
       "      <td>White Dale Suite</td>\n",
       "      <td>Malad City</td>\n",
       "      <td>ID</td>\n",
       "      <td>...</td>\n",
       "      <td>42.1808</td>\n",
       "      <td>-112.2620</td>\n",
       "      <td>4154</td>\n",
       "      <td>Nature conservation officer</td>\n",
       "      <td>43.150704</td>\n",
       "      <td>-112.154481</td>\n",
       "      <td>0</td>\n",
       "      <td>108.206235</td>\n",
       "      <td>Edward Sanchez</td>\n",
       "      <td>56</td>\n",
       "    </tr>\n",
       "    <tr>\n",
       "      <th>3</th>\n",
       "      <td>3</td>\n",
       "      <td>2019-01-01 00:01:16</td>\n",
       "      <td>3.534094e+15</td>\n",
       "      <td>Kutch, Hermiston and Farrell</td>\n",
       "      <td>gas_transport</td>\n",
       "      <td>45.00</td>\n",
       "      <td>M</td>\n",
       "      <td>Cynthia Court Apt.</td>\n",
       "      <td>Boulder</td>\n",
       "      <td>MT</td>\n",
       "      <td>...</td>\n",
       "      <td>46.2306</td>\n",
       "      <td>-112.1138</td>\n",
       "      <td>1939</td>\n",
       "      <td>Patent attorney</td>\n",
       "      <td>47.034331</td>\n",
       "      <td>-112.561071</td>\n",
       "      <td>0</td>\n",
       "      <td>95.673366</td>\n",
       "      <td>Jeremy White</td>\n",
       "      <td>51</td>\n",
       "    </tr>\n",
       "    <tr>\n",
       "      <th>4</th>\n",
       "      <td>4</td>\n",
       "      <td>2019-01-01 00:03:06</td>\n",
       "      <td>3.755342e+14</td>\n",
       "      <td>Keeling-Crist</td>\n",
       "      <td>misc_pos</td>\n",
       "      <td>41.96</td>\n",
       "      <td>M</td>\n",
       "      <td>Bradley Rest</td>\n",
       "      <td>Doe Hill</td>\n",
       "      <td>VA</td>\n",
       "      <td>...</td>\n",
       "      <td>38.4207</td>\n",
       "      <td>-79.4629</td>\n",
       "      <td>99</td>\n",
       "      <td>Dance movement psychotherapist</td>\n",
       "      <td>38.674999</td>\n",
       "      <td>-78.632459</td>\n",
       "      <td>0</td>\n",
       "      <td>77.556853</td>\n",
       "      <td>Tyler Garcia</td>\n",
       "      <td>32</td>\n",
       "    </tr>\n",
       "  </tbody>\n",
       "</table>\n",
       "<p>5 rows × 21 columns</p>\n",
       "</div>"
      ],
      "text/plain": [
       "   field1 trans_date_trans_time        cc_num                      merchant  \\\n",
       "0       0   2019-01-01 00:00:18  2.703186e+15          Rippin, Kub and Mann   \n",
       "1       1   2019-01-01 00:00:44  6.304233e+11     Heller, Gutmann and Zieme   \n",
       "2       2   2019-01-01 00:00:51  3.885949e+13                Lind-Buckridge   \n",
       "3       3   2019-01-01 00:01:16  3.534094e+15  Kutch, Hermiston and Farrell   \n",
       "4       4   2019-01-01 00:03:06  3.755342e+14                 Keeling-Crist   \n",
       "\n",
       "        category     amt gender              street            city state  \\\n",
       "0       misc_net    4.97      F          Perry Cove  Moravian Falls    NC   \n",
       "1    grocery_pos  107.23      F  Riley Greens Suite          Orient    WA   \n",
       "2  entertainment  220.11      M    White Dale Suite      Malad City    ID   \n",
       "3  gas_transport   45.00      M  Cynthia Court Apt.         Boulder    MT   \n",
       "4       misc_pos   41.96      M        Bradley Rest        Doe Hill    VA   \n",
       "\n",
       "   ...      lat      long  city_pop                                job  \\\n",
       "0  ...  36.0788  -81.1781      3495          Psychologist, counselling   \n",
       "1  ...  48.8878 -118.2105       149  Special educational needs teacher   \n",
       "2  ...  42.1808 -112.2620      4154        Nature conservation officer   \n",
       "3  ...  46.2306 -112.1138      1939                    Patent attorney   \n",
       "4  ...  38.4207  -79.4629        99     Dance movement psychotherapist   \n",
       "\n",
       "   merch_lat  merch_long  is_fraud    distance       full_name age  \n",
       "0  36.011293  -82.048315         0   78.597680  Jennifer Banks  30  \n",
       "1  49.159047 -118.186462         0   30.212218  Stephanie Gill  40  \n",
       "2  43.150704 -112.154481         0  108.206235  Edward Sanchez  56  \n",
       "3  47.034331 -112.561071         0   95.673366    Jeremy White  51  \n",
       "4  38.674999  -78.632459         0   77.556853    Tyler Garcia  32  \n",
       "\n",
       "[5 rows x 21 columns]"
      ]
     },
     "execution_count": 5,
     "metadata": {},
     "output_type": "execute_result"
    }
   ],
   "source": [
    "df.head()"
   ]
  },
  {
   "cell_type": "markdown",
   "metadata": {},
   "source": [
    "# EDA"
   ]
  },
  {
   "cell_type": "code",
   "execution_count": 6,
   "metadata": {},
   "outputs": [
    {
     "data": {
      "text/plain": [
       "(1296675, 21)"
      ]
     },
     "execution_count": 6,
     "metadata": {},
     "output_type": "execute_result"
    }
   ],
   "source": [
    "df.shape"
   ]
  },
  {
   "cell_type": "code",
   "execution_count": 7,
   "metadata": {},
   "outputs": [
    {
     "name": "stdout",
     "output_type": "stream",
     "text": [
      "<class 'pandas.core.frame.DataFrame'>\n",
      "RangeIndex: 1296675 entries, 0 to 1296674\n",
      "Data columns (total 21 columns):\n",
      " #   Column                 Non-Null Count    Dtype  \n",
      "---  ------                 --------------    -----  \n",
      " 0   field1                 1296675 non-null  int64  \n",
      " 1   trans_date_trans_time  1296675 non-null  object \n",
      " 2   cc_num                 1296675 non-null  float64\n",
      " 3   merchant               1296675 non-null  object \n",
      " 4   category               1296675 non-null  object \n",
      " 5   amt                    1296675 non-null  float64\n",
      " 6   gender                 1296675 non-null  object \n",
      " 7   street                 1296675 non-null  object \n",
      " 8   city                   1296675 non-null  object \n",
      " 9   state                  1296675 non-null  object \n",
      " 10  zip                    1296675 non-null  int64  \n",
      " 11  lat                    1296675 non-null  float64\n",
      " 12  long                   1296675 non-null  float64\n",
      " 13  city_pop               1296675 non-null  int64  \n",
      " 14  job                    1296675 non-null  object \n",
      " 15  merch_lat              1296675 non-null  float64\n",
      " 16  merch_long             1296675 non-null  float64\n",
      " 17  is_fraud               1296675 non-null  int64  \n",
      " 18  distance               1296675 non-null  float64\n",
      " 19  full_name              1296675 non-null  object \n",
      " 20  age                    1296675 non-null  int64  \n",
      "dtypes: float64(7), int64(5), object(9)\n",
      "memory usage: 207.7+ MB\n"
     ]
    }
   ],
   "source": [
    "df.info()"
   ]
  },
  {
   "cell_type": "markdown",
   "metadata": {},
   "source": [
    "Wont require Latitude, longitude data as city and distance data is enough for analysis"
   ]
  },
  {
   "cell_type": "code",
   "execution_count": 8,
   "metadata": {},
   "outputs": [],
   "source": [
    "df.drop(['lat', 'long', 'merch_lat', 'merch_long'], axis = 1, inplace = True)"
   ]
  },
  {
   "cell_type": "markdown",
   "metadata": {},
   "source": [
    "field1 is just unique identifier, cc_num is the credit card number,. we won't require both during our analysis phase"
   ]
  },
  {
   "cell_type": "code",
   "execution_count": 9,
   "metadata": {},
   "outputs": [],
   "source": [
    "df.drop(['field1', 'cc_num'], axis = 1, inplace = True)"
   ]
  },
  {
   "cell_type": "code",
   "execution_count": 10,
   "metadata": {},
   "outputs": [],
   "source": [
    "# Lets try and divide the columns into respective data types"
   ]
  },
  {
   "cell_type": "code",
   "execution_count": 11,
   "metadata": {},
   "outputs": [],
   "source": [
    "dt = 'trans_date_trans_time'\n",
    "numeric = ['amt', 'city_pop', 'distance', 'age']\n",
    "cat = ['merchant', 'category', 'gender', 'street', 'city', 'state', 'zip', 'job', 'full_name']"
   ]
  },
  {
   "cell_type": "markdown",
   "metadata": {},
   "source": [
    "# Target"
   ]
  },
  {
   "cell_type": "code",
   "execution_count": 12,
   "metadata": {},
   "outputs": [
    {
     "data": {
      "text/plain": [
       "array([0, 1], dtype=int64)"
      ]
     },
     "execution_count": 12,
     "metadata": {},
     "output_type": "execute_result"
    }
   ],
   "source": [
    "df['is_fraud'].unique()"
   ]
  },
  {
   "cell_type": "code",
   "execution_count": 13,
   "metadata": {},
   "outputs": [
    {
     "data": {
      "text/plain": [
       "0    1289169\n",
       "1       7506\n",
       "Name: is_fraud, dtype: int64"
      ]
     },
     "execution_count": 13,
     "metadata": {},
     "output_type": "execute_result"
    }
   ],
   "source": [
    "df['is_fraud'].value_counts()"
   ]
  },
  {
   "cell_type": "code",
   "execution_count": 14,
   "metadata": {},
   "outputs": [
    {
     "data": {
      "text/plain": [
       "0    0.994211\n",
       "1    0.005789\n",
       "Name: is_fraud, dtype: float64"
      ]
     },
     "execution_count": 14,
     "metadata": {},
     "output_type": "execute_result"
    }
   ],
   "source": [
    "df['is_fraud'].value_counts(normalize=True)"
   ]
  },
  {
   "cell_type": "markdown",
   "metadata": {},
   "source": [
    "The target variable is binary. As stated in the problem statement, we have to identify the fraudulent transactions.\n",
    "\n",
    "99.4% of transactions are legit, only 0.6% of transactions are fraud.\n",
    "\n",
    "The data is severely imbalanced. We now have to set metrics so as to evalute our model performance.\n",
    "\n",
    "We have 3 options: \n",
    "\n",
    "    Precision: Out of all the Frauds predicted by our model, how many were actually frauds.\n",
    "\n",
    "    Recall: Out of total frauds, how many does our model identifies correctly.\n",
    "    \n",
    "There is usually a trade-off between both the metrics, If both the metrics are equally important, then we can choose f1_score:\n",
    "\n",
    "    f1-score: Harmonic mean of Precision and Recall. Weighs both metrics equally."
   ]
  },
  {
   "cell_type": "markdown",
   "metadata": {},
   "source": [
    "Now, as a bank, do we need to identify all the frauds correctly and fail to catch a few fraud transactions or do we need to capture as many fraud transactions as possible but misclassify a few legit transactions as fraud.\n",
    "\n",
    "If we choose recall, we may catch all the fraud transactions and prevent major loss to the bank, but if we misclassify legit transactions as frauds, we may inconvience customers and result in increased churn rate.\n",
    "\n",
    "If we choose precision we will classify majority of the fraud transactions correctly and prevent inconvinience to the customers, but we will miss a few fraudulent transactions, causing loss to the bank.\n",
    "\n",
    "In the end, what is more important, Preventing loss to bank or preventing inconvinience?"
   ]
  },
  {
   "cell_type": "markdown",
   "metadata": {},
   "source": [
    "Lets check the amount of loss occured in fraud."
   ]
  },
  {
   "cell_type": "code",
   "execution_count": 15,
   "metadata": {},
   "outputs": [
    {
     "data": {
      "text/plain": [
       "3988088.6100000003"
      ]
     },
     "execution_count": 15,
     "metadata": {},
     "output_type": "execute_result"
    }
   ],
   "source": [
    "df[df['is_fraud'] == 1]['amt'].sum()"
   ]
  },
  {
   "cell_type": "code",
   "execution_count": 16,
   "metadata": {},
   "outputs": [
    {
     "data": {
      "text/plain": [
       "531.3200919264573"
      ]
     },
     "execution_count": 16,
     "metadata": {},
     "output_type": "execute_result"
    }
   ],
   "source": [
    "df[df['is_fraud'] == 1]['amt'].mean()"
   ]
  },
  {
   "cell_type": "markdown",
   "metadata": {},
   "source": [
    "     So the bank lost an avg of $500 on every fraud transaction. And 7506 frauds adds up to $3.9 million loss in time frame of 1.5 years."
   ]
  },
  {
   "cell_type": "markdown",
   "metadata": {},
   "source": [
    "So, we wil be choosing recall as our metric."
   ]
  },
  {
   "cell_type": "markdown",
   "metadata": {},
   "source": [
    "## datetime"
   ]
  },
  {
   "cell_type": "markdown",
   "metadata": {},
   "source": [
    "### trans_date_trans_time"
   ]
  },
  {
   "cell_type": "code",
   "execution_count": 17,
   "metadata": {},
   "outputs": [],
   "source": [
    "df['trans_date_trans_time'] = pd.to_datetime(df['trans_date_trans_time'])"
   ]
  },
  {
   "cell_type": "code",
   "execution_count": 18,
   "metadata": {},
   "outputs": [
    {
     "name": "stdout",
     "output_type": "stream",
     "text": [
      "This data contains transaction info of 537 days 12:13:19\n"
     ]
    }
   ],
   "source": [
    "print('This data contains transaction info of {}'.format(df['trans_date_trans_time'].max() - df['trans_date_trans_time'].min()))"
   ]
  },
  {
   "cell_type": "code",
   "execution_count": 19,
   "metadata": {},
   "outputs": [
    {
     "name": "stdout",
     "output_type": "stream",
     "text": [
      "The first transaction record is for 2019-01-01 00:00:18\n",
      "The last transaction record is for 2020-06-21 12:13:37\n"
     ]
    }
   ],
   "source": [
    "print('The first transaction record is for {}'.format(df['trans_date_trans_time'].min()))\n",
    "print('The last transaction record is for {}'.format(df['trans_date_trans_time'].max()))"
   ]
  },
  {
   "cell_type": "code",
   "execution_count": 90,
   "metadata": {},
   "outputs": [
    {
     "data": {
      "text/plain": [
       "<AxesSubplot:xlabel='trans_date_trans_time'>"
      ]
     },
     "execution_count": 90,
     "metadata": {},
     "output_type": "execute_result"
    },
    {
     "data": {
      "image/png": "[encoded data removed]",
      "text/plain": [
       "<Figure size 864x576 with 1 Axes>"
      ]
     },
     "metadata": {
      "needs_background": "light"
     },
     "output_type": "display_data"
    }
   ],
   "source": [
    "df.resample('M',on = 'trans_date_trans_time')['is_fraud'].sum().plot(figsize = (12,8))"
   ]
  },
  {
   "cell_type": "markdown",
   "metadata": {},
   "source": [
    "## Numeric"
   ]
  },
  {
   "cell_type": "code",
   "execution_count": 20,
   "metadata": {
    "scrolled": true
   },
   "outputs": [
    {
     "data": {
      "text/plain": [
       "['amt', 'city_pop', 'distance', 'age']"
      ]
     },
     "execution_count": 20,
     "metadata": {},
     "output_type": "execute_result"
    }
   ],
   "source": [
    "numeric"
   ]
  },
  {
   "cell_type": "code",
   "execution_count": 21,
   "metadata": {},
   "outputs": [],
   "source": [
    "def numeric_summary_stats(col):\n",
    "    print('Mean    = ', df[col].mean())\n",
    "    print()\n",
    "    print('Minimum = ', df[col].min())\n",
    "    print('25%     = ', np.quantile(df[col], 0.25))\n",
    "    print('Median  = ', np.quantile(df[col], 0.5))\n",
    "    print('75%     = ', np.quantile(df[col], 0.75))\n",
    "    print('Maximum = ', df[col].max())"
   ]
  },
  {
   "cell_type": "code",
   "execution_count": 22,
   "metadata": {},
   "outputs": [],
   "source": [
    "def outliers(col):\n",
    "    percentile_75 = np.quantile(df[col], 0.75)\n",
    "    percentile_25 = np.quantile(df[col], 0.25)\n",
    "    iqr = percentile_75 - percentile_25\n",
    "\n",
    "    upper_limit = percentile_75 + (1.5 * iqr)\n",
    "\n",
    "    print('Upper_limit is ', upper_limit)\n",
    "\n",
    "    print('No of outliers in column = ', df[df[col]>upper_limit].shape[0])\n",
    "    \n",
    "    return upper_limit"
   ]
  },
  {
   "cell_type": "markdown",
   "metadata": {},
   "source": [
    "### amt"
   ]
  },
  {
   "cell_type": "markdown",
   "metadata": {},
   "source": [
    "The variable gives the amount in each transaction"
   ]
  },
  {
   "cell_type": "code",
   "execution_count": 23,
   "metadata": {},
   "outputs": [
    {
     "name": "stdout",
     "output_type": "stream",
     "text": [
      "Mean    =  70.35103545606833\n",
      "\n",
      "Minimum =  1.0\n",
      "25%     =  9.65\n",
      "Median  =  47.52\n",
      "75%     =  83.14\n",
      "Maximum =  28948.9\n"
     ]
    }
   ],
   "source": [
    "numeric_summary_stats('amt')"
   ]
  },
  {
   "cell_type": "markdown",
   "metadata": {},
   "source": [
    "Data upto 3rd quartile is under 83.14, while the max is 28948. This suggest existence of outliers towards right side of the data. Lets check the data for outliers (amount and number both)\n",
    "\n",
    "The data is skewed towards Right.\n",
    "\n",
    "We will find the outliers via IQR range"
   ]
  },
  {
   "cell_type": "code",
   "execution_count": 24,
   "metadata": {},
   "outputs": [
    {
     "name": "stdout",
     "output_type": "stream",
     "text": [
      "Upper_limit is  193.375\n",
      "No of outliers in column =  67290\n"
     ]
    },
    {
     "data": {
      "text/plain": [
       "193.375"
      ]
     },
     "execution_count": 24,
     "metadata": {},
     "output_type": "execute_result"
    }
   ],
   "source": [
    "outliers('amt')"
   ]
  },
  {
   "cell_type": "markdown",
   "metadata": {},
   "source": [
    "Lets remove the outliers and see hwo the distribution is like."
   ]
  },
  {
   "cell_type": "code",
   "execution_count": 25,
   "metadata": {},
   "outputs": [
    {
     "data": {
      "text/plain": [
       "<AxesSubplot:xlabel='amt', ylabel='Density'>"
      ]
     },
     "execution_count": 25,
     "metadata": {},
     "output_type": "execute_result"
    },
    {
     "data": {
      "image/png": "[encoded data removed]",
      "text/plain": [
       "<Figure size 864x576 with 1 Axes>"
      ]
     },
     "metadata": {
      "needs_background": "light"
     },
     "output_type": "display_data"
    }
   ],
   "source": [
    "plt.figure(figsize = (12,8))\n",
    "sns.kdeplot(x = 'amt', data = df[df['amt'] < 194])"
   ]
  },
  {
   "cell_type": "code",
   "execution_count": 26,
   "metadata": {},
   "outputs": [
    {
     "data": {
      "text/plain": [
       "<AxesSubplot:xlabel='is_fraud', ylabel='amt'>"
      ]
     },
     "execution_count": 26,
     "metadata": {},
     "output_type": "execute_result"
    },
    {
     "data": {
      "image/png": "[encoded data removed]",
      "text/plain": [
       "<Figure size 720x864 with 1 Axes>"
      ]
     },
     "metadata": {
      "needs_background": "light"
     },
     "output_type": "display_data"
    }
   ],
   "source": [
    "plt.figure(figsize = (10,12))\n",
    "sns.violinplot(x = 'is_fraud', y = 'amt', data = df[df['amt']<194])"
   ]
  },
  {
   "cell_type": "code",
   "execution_count": 27,
   "metadata": {},
   "outputs": [
    {
     "name": "stdout",
     "output_type": "stream",
     "text": [
      "Data for Fraud transactions without outliers\n",
      "Mean    =  25.063126041088303\n",
      "\n",
      "Minimum =  1.06\n",
      "25%     =  9.55\n",
      "Median  =  16.02\n",
      "75%     =  20.94\n",
      "Maximum =  191.87\n"
     ]
    }
   ],
   "source": [
    "print('Data for Fraud transactions without outliers')\n",
    "print('Mean    = ', df[(df['amt'] < 194) & (df['is_fraud'] == 1)]['amt'].mean())\n",
    "print()\n",
    "print('Minimum = ', df[(df['amt'] < 194) & (df['is_fraud'] == 1)]['amt'].min())\n",
    "print('25%     = ', np.quantile(df[(df['amt'] < 194) & (df['is_fraud'] == 1)]['amt'], 0.25))\n",
    "print('Median  = ', np.quantile(df[(df['amt'] < 194) & (df['is_fraud'] == 1)]['amt'], 0.5))\n",
    "print('75%     = ', np.quantile(df[(df['amt'] < 194) & (df['is_fraud'] == 1)]['amt'], 0.75))\n",
    "print('Maximum = ', df[(df['amt'] < 194) & (df['is_fraud'] == 1)]['amt'].max())"
   ]
  },
  {
   "cell_type": "code",
   "execution_count": 28,
   "metadata": {},
   "outputs": [
    {
     "name": "stdout",
     "output_type": "stream",
     "text": [
      "Data for legal transactions without outliers\n",
      "Mean    =  50.548585743517364\n",
      "\n",
      "Minimum =  1.0\n",
      "25%     =  9.15\n",
      "Median  =  43.95\n",
      "75%     =  20.94\n",
      "Maximum =  193.99\n"
     ]
    }
   ],
   "source": [
    "print('Data for legal transactions without outliers')\n",
    "print('Mean    = ', df[(df['amt'] < 194) & (df['is_fraud'] == 0)]['amt'].mean())\n",
    "print()\n",
    "print('Minimum = ', df[(df['amt'] < 194) & (df['is_fraud'] == 0)]['amt'].min())\n",
    "print('25%     = ', np.quantile(df[(df['amt'] < 194) & (df['is_fraud'] == 0)]['amt'], 0.25))\n",
    "print('Median  = ', np.quantile(df[(df['amt'] < 194) & (df['is_fraud'] == 0)]['amt'], 0.5))\n",
    "print('75%     = ', np.quantile(df[(df['amt'] < 194) & (df['is_fraud'] == 1)]['amt'], 0.75))\n",
    "print('Maximum = ', df[(df['amt'] < 194) & (df['is_fraud'] == 0)]['amt'].max())"
   ]
  },
  {
   "cell_type": "code",
   "execution_count": 29,
   "metadata": {},
   "outputs": [
    {
     "data": {
      "text/plain": [
       "0    61890\n",
       "1     5705\n",
       "Name: is_fraud, dtype: int64"
      ]
     },
     "execution_count": 29,
     "metadata": {},
     "output_type": "execute_result"
    }
   ],
   "source": [
    "#Outliers\n",
    "df[df['amt'] > 193]['is_fraud'].value_counts()"
   ]
  },
  {
   "cell_type": "code",
   "execution_count": 30,
   "metadata": {},
   "outputs": [
    {
     "name": "stdout",
     "output_type": "stream",
     "text": [
      "% of total frauds where amt is an outlier: 0.76005861977085\n"
     ]
    }
   ],
   "source": [
    "print('% of total frauds where amt is an outlier:',\n",
    "      df[(df['amt']>193) & df['is_fraud'] == 1].shape[0]/df[df['is_fraud'] == 1].shape[0])"
   ]
  },
  {
   "cell_type": "markdown",
   "metadata": {},
   "source": [
    "So 76% of the fraudulent transactions have high transaction amount "
   ]
  },
  {
   "cell_type": "code",
   "execution_count": 31,
   "metadata": {},
   "outputs": [
    {
     "data": {
      "text/plain": [
       "<AxesSubplot:xlabel='is_fraud', ylabel='amt'>"
      ]
     },
     "execution_count": 31,
     "metadata": {},
     "output_type": "execute_result"
    },
    {
     "data": {
      "image/png": "[encoded data removed]",
      "text/plain": [
       "<Figure size 720x864 with 1 Axes>"
      ]
     },
     "metadata": {
      "needs_background": "light"
     },
     "output_type": "display_data"
    }
   ],
   "source": [
    "plt.figure(figsize = (10,12))\n",
    "sns.violinplot(x = 'is_fraud', y = 'amt', data = df[df['amt']>193])"
   ]
  },
  {
   "cell_type": "code",
   "execution_count": 32,
   "metadata": {},
   "outputs": [
    {
     "name": "stdout",
     "output_type": "stream",
     "text": [
      "Data for Fraud transactions with outliers\n",
      "Mean    =  691.1393374233118\n",
      "\n",
      "Minimum =  197.33\n",
      "25%     =  326.04\n",
      "Median  =  786.4\n",
      "75%     =  948.05\n",
      "Maximum =  1376.04\n"
     ]
    }
   ],
   "source": [
    "print('Data for Fraud transactions with outliers')\n",
    "print('Mean    = ', df[(df['amt'] > 193) & (df['is_fraud'] == 1)]['amt'].mean())\n",
    "print()\n",
    "print('Minimum = ', df[(df['amt'] > 193) & (df['is_fraud'] == 1)]['amt'].min())\n",
    "print('25%     = ', np.quantile(df[(df['amt'] > 193) & (df['is_fraud'] == 1)]['amt'], 0.25))\n",
    "print('Median  = ', np.quantile(df[(df['amt'] > 193) & (df['is_fraud'] == 1)]['amt'], 0.5))\n",
    "print('75%     = ', np.quantile(df[(df['amt'] > 193) & (df['is_fraud'] == 1)]['amt'], 0.75))\n",
    "print('Maximum = ', df[(df['amt'] > 193) & (df['is_fraud'] == 1)]['amt'].max())"
   ]
  },
  {
   "cell_type": "code",
   "execution_count": 33,
   "metadata": {},
   "outputs": [
    {
     "name": "stdout",
     "output_type": "stream",
     "text": [
      "Data for Fraud transactions with outliers\n",
      "Mean    =  408.9937705606679\n",
      "\n",
      "Minimum =  193.01\n",
      "25%     =  214.02\n",
      "Median  =  259.69\n",
      "75%     =  446.7275\n",
      "Maximum =  28948.9\n"
     ]
    }
   ],
   "source": [
    "print('Data for Fraud transactions with outliers')\n",
    "print('Mean    = ', df[(df['amt'] > 193) & (df['is_fraud'] == 0)]['amt'].mean())\n",
    "print()\n",
    "print('Minimum = ', df[(df['amt'] > 193) & (df['is_fraud'] == 0)]['amt'].min())\n",
    "print('25%     = ', np.quantile(df[(df['amt'] > 193) & (df['is_fraud'] == 0)]['amt'], 0.25))\n",
    "print('Median  = ', np.quantile(df[(df['amt'] > 193) & (df['is_fraud'] == 0)]['amt'], 0.5))\n",
    "print('75%     = ', np.quantile(df[(df['amt'] > 193) & (df['is_fraud'] == 0)]['amt'], 0.75))\n",
    "print('Maximum = ', df[(df['amt'] > 193) & (df['is_fraud'] == 0)]['amt'].max())"
   ]
  },
  {
   "cell_type": "markdown",
   "metadata": {},
   "source": [
    "We can make a new feature called 'is_outlier_amt' for classification"
   ]
  },
  {
   "cell_type": "markdown",
   "metadata": {},
   "source": [
    "### city_pop"
   ]
  },
  {
   "cell_type": "markdown",
   "metadata": {},
   "source": [
    "Population of city in which the user lives"
   ]
  },
  {
   "cell_type": "code",
   "execution_count": 34,
   "metadata": {},
   "outputs": [
    {
     "name": "stdout",
     "output_type": "stream",
     "text": [
      "Mean    =  88824.44056297839\n",
      "\n",
      "Minimum =  23\n",
      "25%     =  743.0\n",
      "Median  =  2456.0\n",
      "75%     =  20328.0\n",
      "Maximum =  2906700\n"
     ]
    }
   ],
   "source": [
    "numeric_summary_stats('city_pop')"
   ]
  },
  {
   "cell_type": "code",
   "execution_count": 35,
   "metadata": {},
   "outputs": [
    {
     "data": {
      "text/plain": [
       "<AxesSubplot:xlabel='city_pop', ylabel='Density'>"
      ]
     },
     "execution_count": 35,
     "metadata": {},
     "output_type": "execute_result"
    },
    {
     "data": {
      "image/png": "[encoded data removed]",
      "text/plain": [
       "<Figure size 1080x720 with 1 Axes>"
      ]
     },
     "metadata": {
      "needs_background": "light"
     },
     "output_type": "display_data"
    }
   ],
   "source": [
    "plt.figure(figsize = (15,10))\n",
    "sns.kdeplot(x = 'city_pop', data = df)"
   ]
  },
  {
   "cell_type": "code",
   "execution_count": 36,
   "metadata": {},
   "outputs": [
    {
     "name": "stdout",
     "output_type": "stream",
     "text": [
      "Upper_limit is  49705.5\n",
      "No of outliers in column =  242674\n"
     ]
    },
    {
     "data": {
      "text/plain": [
       "49705.5"
      ]
     },
     "execution_count": 36,
     "metadata": {},
     "output_type": "execute_result"
    }
   ],
   "source": [
    "outliers('city_pop')"
   ]
  },
  {
   "cell_type": "markdown",
   "metadata": {},
   "source": [
    "### distance"
   ]
  },
  {
   "cell_type": "markdown",
   "metadata": {},
   "source": [
    "Gives the distance between user's home and where the transaction occured"
   ]
  },
  {
   "cell_type": "code",
   "execution_count": 37,
   "metadata": {},
   "outputs": [
    {
     "name": "stdout",
     "output_type": "stream",
     "text": [
      "Mean    =  76.11475812739239\n",
      "\n",
      "Minimum =  0.022254547076406873\n",
      "25%     =  55.334991597630186\n",
      "Median  =  78.23186180649904\n",
      "75%     =  98.50340743557823\n",
      "Maximum =  152.11738799443842\n"
     ]
    }
   ],
   "source": [
    "numeric_summary_stats('distance')"
   ]
  },
  {
   "cell_type": "code",
   "execution_count": 38,
   "metadata": {},
   "outputs": [
    {
     "data": {
      "text/plain": [
       "<AxesSubplot:xlabel='distance', ylabel='Density'>"
      ]
     },
     "execution_count": 38,
     "metadata": {},
     "output_type": "execute_result"
    },
    {
     "data": {
      "image/png": "[encoded data removed]",
      "text/plain": [
       "<Figure size 1080x720 with 1 Axes>"
      ]
     },
     "metadata": {
      "needs_background": "light"
     },
     "output_type": "display_data"
    }
   ],
   "source": [
    "plt.figure(figsize = (15,10))\n",
    "sns.kdeplot(x = 'distance', data = df)"
   ]
  },
  {
   "cell_type": "code",
   "execution_count": 39,
   "metadata": {},
   "outputs": [
    {
     "data": {
      "text/plain": [
       "<AxesSubplot:xlabel='is_fraud', ylabel='distance'>"
      ]
     },
     "execution_count": 39,
     "metadata": {},
     "output_type": "execute_result"
    },
    {
     "data": {
      "image/png": "[encoded data removed]",
      "text/plain": [
       "<Figure size 720x864 with 1 Axes>"
      ]
     },
     "metadata": {
      "needs_background": "light"
     },
     "output_type": "display_data"
    }
   ],
   "source": [
    "plt.figure(figsize = (10,12))\n",
    "sns.violinplot(x = 'is_fraud', y = 'distance', data = df)"
   ]
  },
  {
   "cell_type": "markdown",
   "metadata": {},
   "source": [
    "### age"
   ]
  },
  {
   "cell_type": "code",
   "execution_count": 40,
   "metadata": {},
   "outputs": [
    {
     "name": "stdout",
     "output_type": "stream",
     "text": [
      "Mean    =  45.49740682900495\n",
      "\n",
      "Minimum =  13\n",
      "25%     =  32.0\n",
      "Median  =  43.0\n",
      "75%     =  57.0\n",
      "Maximum =  95\n"
     ]
    }
   ],
   "source": [
    "numeric_summary_stats('age')"
   ]
  },
  {
   "cell_type": "code",
   "execution_count": 41,
   "metadata": {},
   "outputs": [
    {
     "data": {
      "text/plain": [
       "<AxesSubplot:xlabel='age', ylabel='Density'>"
      ]
     },
     "execution_count": 41,
     "metadata": {},
     "output_type": "execute_result"
    },
    {
     "data": {
      "image/png": "[encoded data removed]",
      "text/plain": [
       "<Figure size 1080x720 with 1 Axes>"
      ]
     },
     "metadata": {
      "needs_background": "light"
     },
     "output_type": "display_data"
    }
   ],
   "source": [
    "plt.figure(figsize = (15,10))\n",
    "sns.kdeplot(x = 'age', data = df)"
   ]
  },
  {
   "cell_type": "code",
   "execution_count": 42,
   "metadata": {},
   "outputs": [
    {
     "data": {
      "text/plain": [
       "<AxesSubplot:xlabel='is_fraud', ylabel='age'>"
      ]
     },
     "execution_count": 42,
     "metadata": {},
     "output_type": "execute_result"
    },
    {
     "data": {
      "image/png": "[encoded data removed]",
      "text/plain": [
       "<Figure size 720x864 with 1 Axes>"
      ]
     },
     "metadata": {
      "needs_background": "light"
     },
     "output_type": "display_data"
    }
   ],
   "source": [
    "plt.figure(figsize = (10,12))\n",
    "sns.violinplot(x = 'is_fraud', y = 'age', data = df)"
   ]
  },
  {
   "cell_type": "markdown",
   "metadata": {},
   "source": [
    "## Categorical"
   ]
  },
  {
   "cell_type": "code",
   "execution_count": 43,
   "metadata": {},
   "outputs": [
    {
     "data": {
      "text/plain": [
       "['merchant',\n",
       " 'category',\n",
       " 'gender',\n",
       " 'street',\n",
       " 'city',\n",
       " 'state',\n",
       " 'zip',\n",
       " 'job',\n",
       " 'full_name']"
      ]
     },
     "execution_count": 43,
     "metadata": {},
     "output_type": "execute_result"
    }
   ],
   "source": [
    "cat"
   ]
  },
  {
   "cell_type": "markdown",
   "metadata": {},
   "source": [
    "### merchant"
   ]
  },
  {
   "cell_type": "code",
   "execution_count": 44,
   "metadata": {},
   "outputs": [
    {
     "data": {
      "text/plain": [
       "693"
      ]
     },
     "execution_count": 44,
     "metadata": {},
     "output_type": "execute_result"
    }
   ],
   "source": [
    "df['merchant'].nunique()"
   ]
  },
  {
   "cell_type": "code",
   "execution_count": 45,
   "metadata": {},
   "outputs": [
    {
     "data": {
      "text/plain": [
       "Kilback LLC                       4403\n",
       "Cormier LLC                       3649\n",
       "Schumm PLC                        3634\n",
       "Kuhn LLC                          3510\n",
       "Boyer PLC                         3493\n",
       "                                  ... \n",
       "Treutel-King                       775\n",
       "Douglas, DuBuque and McKenzie      775\n",
       "Medhurst, Labadie and Gottlieb     759\n",
       "Reichert-Weissnat                  753\n",
       "Hahn, Douglas and Schowalter       727\n",
       "Name: merchant, Length: 693, dtype: int64"
      ]
     },
     "execution_count": 45,
     "metadata": {},
     "output_type": "execute_result"
    }
   ],
   "source": [
    "df['merchant'].value_counts()"
   ]
  },
  {
   "cell_type": "code",
   "execution_count": 46,
   "metadata": {},
   "outputs": [
    {
     "data": {
      "text/plain": [
       "Rau and Sons         49\n",
       "Kozey-Boehm          48\n",
       "Cormier LLC          48\n",
       "Vandervort-Funk      47\n",
       "Doyle Ltd            47\n",
       "Kilback LLC          47\n",
       "Kuhn LLC             44\n",
       "Padberg-Welch        44\n",
       "Terry-Huel           43\n",
       "Koepp-Witting        42\n",
       "Jast Ltd             42\n",
       "Goyette Inc          42\n",
       "Kerluke-Abshire      41\n",
       "Kiehn-Emmerich       41\n",
       "McDermott-Weimann    41\n",
       "Name: merchant, dtype: int64"
      ]
     },
     "execution_count": 46,
     "metadata": {},
     "output_type": "execute_result"
    }
   ],
   "source": [
    "#The merchants where most no of frauds have occured\n",
    "df[df['is_fraud'] == 1]['merchant'].value_counts().head(15)"
   ]
  },
  {
   "cell_type": "code",
   "execution_count": 47,
   "metadata": {},
   "outputs": [],
   "source": [
    "merchants = df[df['is_fraud'] == 1]['merchant'].unique()"
   ]
  },
  {
   "cell_type": "code",
   "execution_count": 48,
   "metadata": {},
   "outputs": [],
   "source": [
    "non_frauds = []\n",
    "def merch(row):\n",
    "    if row['merchant'] not in merchants:\n",
    "        non_frauds.append(row['merchant'])\n",
    "            \n",
    "    return row\n",
    "\n",
    "df = df.apply(merch, axis= 1)"
   ]
  },
  {
   "cell_type": "code",
   "execution_count": 49,
   "metadata": {},
   "outputs": [],
   "source": [
    "non_frauds = set(non_frauds)"
   ]
  },
  {
   "cell_type": "code",
   "execution_count": 50,
   "metadata": {},
   "outputs": [
    {
     "data": {
      "text/plain": [
       "{'Funk Group',\n",
       " 'Gulgowski LLC',\n",
       " 'Hodkiewicz, Prohaska and Paucek',\n",
       " 'Larson, Quitzon and Spencer',\n",
       " 'McKenzie-Huels',\n",
       " 'Osinski Inc',\n",
       " 'Parker, Nolan and Trantow',\n",
       " 'Paucek-Wiza',\n",
       " 'Reichert-Weissnat',\n",
       " 'Ritchie, Bradtke and Stiedemann',\n",
       " 'Romaguera and Sons',\n",
       " 'Schroeder Group',\n",
       " 'Schroeder, Wolff and Hermiston',\n",
       " 'Wiegand-Lowe'}"
      ]
     },
     "execution_count": 50,
     "metadata": {},
     "output_type": "execute_result"
    }
   ],
   "source": [
    "non_frauds"
   ]
  },
  {
   "cell_type": "markdown",
   "metadata": {},
   "source": [
    "These stores never had any fraudulent transactions."
   ]
  },
  {
   "cell_type": "code",
   "execution_count": 83,
   "metadata": {},
   "outputs": [
    {
     "data": {
      "text/plain": [
       "<AxesSubplot:>"
      ]
     },
     "execution_count": 83,
     "metadata": {},
     "output_type": "execute_result"
    },
    {
     "data": {
      "image/png": "[encoded data removed]",
      "text/plain": [
       "<Figure size 864x864 with 2 Axes>"
      ]
     },
     "metadata": {
      "needs_background": "light"
     },
     "output_type": "display_data"
    }
   ],
   "source": [
    "# Checking for correlation\n",
    "plt.figure(figsize = (12,12))\n",
    "sns.heatmap(df[numeric].corr(), annot = True)"
   ]
  },
  {
   "cell_type": "markdown",
   "metadata": {},
   "source": [
    "There is no multicollinearity"
   ]
  },
  {
   "cell_type": "markdown",
   "metadata": {},
   "source": [
    "### category"
   ]
  },
  {
   "cell_type": "code",
   "execution_count": 51,
   "metadata": {},
   "outputs": [
    {
     "data": {
      "text/plain": [
       "14"
      ]
     },
     "execution_count": 51,
     "metadata": {},
     "output_type": "execute_result"
    }
   ],
   "source": [
    "df['category'].nunique()"
   ]
  },
  {
   "cell_type": "code",
   "execution_count": 52,
   "metadata": {},
   "outputs": [
    {
     "data": {
      "text/plain": [
       "gas_transport     131659\n",
       "grocery_pos       123638\n",
       "home              123115\n",
       "shopping_pos      116672\n",
       "kids_pets         113035\n",
       "shopping_net       97543\n",
       "entertainment      94014\n",
       "food_dining        91461\n",
       "personal_care      90758\n",
       "health_fitness     85879\n",
       "misc_pos           79655\n",
       "misc_net           63287\n",
       "grocery_net        45452\n",
       "travel             40507\n",
       "Name: category, dtype: int64"
      ]
     },
     "execution_count": 52,
     "metadata": {},
     "output_type": "execute_result"
    }
   ],
   "source": [
    "df['category'].value_counts()"
   ]
  },
  {
   "cell_type": "code",
   "execution_count": 53,
   "metadata": {},
   "outputs": [
    {
     "data": {
      "text/plain": [
       "category        is_fraud\n",
       "entertainment   0           99.752165\n",
       "                1            0.247835\n",
       "food_dining     0           99.834902\n",
       "                1            0.165098\n",
       "gas_transport   0           99.530606\n",
       "                1            0.469394\n",
       "grocery_net     0           99.705183\n",
       "                1            0.294817\n",
       "grocery_pos     0           98.590239\n",
       "                1            1.409761\n",
       "health_fitness  0           99.845131\n",
       "                1            0.154869\n",
       "home            0           99.839175\n",
       "                1            0.160825\n",
       "kids_pets       0           99.788561\n",
       "                1            0.211439\n",
       "misc_net        0           98.554205\n",
       "                1            1.445795\n",
       "misc_pos        0           99.686147\n",
       "                1            0.313853\n",
       "personal_care   0           99.757597\n",
       "                1            0.242403\n",
       "shopping_net    0           98.243851\n",
       "                1            1.756149\n",
       "shopping_pos    0           99.277462\n",
       "                1            0.722538\n",
       "travel          0           99.713630\n",
       "                1            0.286370\n",
       "Name: is_fraud, dtype: float64"
      ]
     },
     "execution_count": 53,
     "metadata": {},
     "output_type": "execute_result"
    }
   ],
   "source": [
    "df.groupby('category')['is_fraud'].value_counts(normalize = True)*100"
   ]
  },
  {
   "cell_type": "code",
   "execution_count": 54,
   "metadata": {},
   "outputs": [
    {
     "data": {
      "text/plain": [
       "category        is_fraud\n",
       "entertainment   0            93781\n",
       "                1              233\n",
       "food_dining     0            91310\n",
       "                1              151\n",
       "gas_transport   0           131041\n",
       "                1              618\n",
       "grocery_net     0            45318\n",
       "                1              134\n",
       "grocery_pos     0           121895\n",
       "                1             1743\n",
       "health_fitness  0            85746\n",
       "                1              133\n",
       "home            0           122917\n",
       "                1              198\n",
       "kids_pets       0           112796\n",
       "                1              239\n",
       "misc_net        0            62372\n",
       "                1              915\n",
       "misc_pos        0            79405\n",
       "                1              250\n",
       "personal_care   0            90538\n",
       "                1              220\n",
       "shopping_net    0            95830\n",
       "                1             1713\n",
       "shopping_pos    0           115829\n",
       "                1              843\n",
       "travel          0            40391\n",
       "                1              116\n",
       "Name: is_fraud, dtype: int64"
      ]
     },
     "execution_count": 54,
     "metadata": {},
     "output_type": "execute_result"
    }
   ],
   "source": [
    "df.groupby('category')['is_fraud'].value_counts()"
   ]
  },
  {
   "cell_type": "markdown",
   "metadata": {},
   "source": [
    "### gender"
   ]
  },
  {
   "cell_type": "code",
   "execution_count": 55,
   "metadata": {},
   "outputs": [
    {
     "data": {
      "text/plain": [
       "F    709863\n",
       "M    586812\n",
       "Name: gender, dtype: int64"
      ]
     },
     "execution_count": 55,
     "metadata": {},
     "output_type": "execute_result"
    }
   ],
   "source": [
    "df['gender'].value_counts()"
   ]
  },
  {
   "cell_type": "code",
   "execution_count": 56,
   "metadata": {},
   "outputs": [
    {
     "data": {
      "text/plain": [
       "gender  is_fraud\n",
       "F       0           706128\n",
       "        1             3735\n",
       "M       0           583041\n",
       "        1             3771\n",
       "Name: is_fraud, dtype: int64"
      ]
     },
     "execution_count": 56,
     "metadata": {},
     "output_type": "execute_result"
    }
   ],
   "source": [
    "df.groupby('gender')['is_fraud'].value_counts()"
   ]
  },
  {
   "cell_type": "markdown",
   "metadata": {},
   "source": [
    "For ethical reasons, gender shouldn't be considered as a factor while predicting fraud."
   ]
  },
  {
   "cell_type": "markdown",
   "metadata": {},
   "source": [
    "### street"
   ]
  },
  {
   "cell_type": "code",
   "execution_count": 57,
   "metadata": {},
   "outputs": [
    {
     "data": {
      "text/plain": [
       "982"
      ]
     },
     "execution_count": 57,
     "metadata": {},
     "output_type": "execute_result"
    }
   ],
   "source": [
    "df['street'].nunique()"
   ]
  },
  {
   "cell_type": "code",
   "execution_count": 58,
   "metadata": {},
   "outputs": [],
   "source": [
    "#This feature will be dropped"
   ]
  },
  {
   "cell_type": "markdown",
   "metadata": {},
   "source": [
    "### city"
   ]
  },
  {
   "cell_type": "code",
   "execution_count": 100,
   "metadata": {},
   "outputs": [
    {
     "data": {
      "text/plain": [
       "894"
      ]
     },
     "execution_count": 100,
     "metadata": {},
     "output_type": "execute_result"
    }
   ],
   "source": [
    "df['city'].nunique()"
   ]
  },
  {
   "cell_type": "code",
   "execution_count": 59,
   "metadata": {},
   "outputs": [
    {
     "data": {
      "text/plain": [
       "0                    Moravian Falls\n",
       "1                            Orient\n",
       "2                        Malad City\n",
       "3                           Boulder\n",
       "4                          Doe Hill\n",
       "                     ...           \n",
       "1296670                       Hatch\n",
       "1296671                   Tuscarora\n",
       "1296672    High Rolls Mountain Park\n",
       "1296673                   Manderson\n",
       "1296674                        Sula\n",
       "Name: city, Length: 1296675, dtype: object"
      ]
     },
     "execution_count": 59,
     "metadata": {},
     "output_type": "execute_result"
    }
   ],
   "source": [
    "df['city']"
   ]
  },
  {
   "cell_type": "code",
   "execution_count": 60,
   "metadata": {},
   "outputs": [
    {
     "data": {
      "text/plain": [
       "Birmingham      5617\n",
       "San Antonio     5130\n",
       "Utica           5105\n",
       "Phoenix         5075\n",
       "Meridian        5060\n",
       "Thomas          4634\n",
       "Conway          4613\n",
       "Cleveland       4604\n",
       "Warren          4599\n",
       "Houston         4168\n",
       "Burbank         4159\n",
       "Naples          4155\n",
       "Arcadia         4096\n",
       "Indianapolis    4073\n",
       "Brandon         4044\n",
       "Fulton          3977\n",
       "Lahoma          3646\n",
       "Allentown       3639\n",
       "Lakeland        3635\n",
       "Dallas          3629\n",
       "Name: city, dtype: int64"
      ]
     },
     "execution_count": 60,
     "metadata": {},
     "output_type": "execute_result"
    }
   ],
   "source": [
    "df['city'].value_counts().head(20)"
   ]
  },
  {
   "cell_type": "code",
   "execution_count": 61,
   "metadata": {},
   "outputs": [],
   "source": [
    "idx = df['city'].value_counts().head(30).index"
   ]
  },
  {
   "cell_type": "code",
   "execution_count": 62,
   "metadata": {},
   "outputs": [],
   "source": [
    "mask = [True if i in idx else False for i in df['city']]"
   ]
  },
  {
   "cell_type": "code",
   "execution_count": 63,
   "metadata": {},
   "outputs": [
    {
     "data": {
      "text/plain": [
       "city           is_fraud\n",
       "Allentown      0            99.422918\n",
       "               1             0.577082\n",
       "Andrews        0            99.722145\n",
       "               1             0.277855\n",
       "Arcadia        0            99.560547\n",
       "               1             0.439453\n",
       "Birmingham     0            99.804166\n",
       "               1             0.195834\n",
       "Brandon        0            99.480712\n",
       "               1             0.519288\n",
       "Burbank        0            99.567204\n",
       "               1             0.432796\n",
       "Cleveland      0            99.609036\n",
       "               1             0.390964\n",
       "Conway         0            99.631476\n",
       "               1             0.368524\n",
       "Dallas         0            99.255993\n",
       "               1             0.744007\n",
       "Detroit        0            99.274554\n",
       "               1             0.725446\n",
       "Elberta        0            99.679795\n",
       "               1             0.320205\n",
       "Fort Washakie  0            99.404593\n",
       "               1             0.595407\n",
       "Fulton         0            99.723410\n",
       "               1             0.276590\n",
       "Houston        0            99.064299\n",
       "               1             0.935701\n",
       "Hudson         0            99.407950\n",
       "               1             0.592050\n",
       "Huntsville     0            99.185393\n",
       "               1             0.814607\n",
       "Indianapolis   0            99.582617\n",
       "               1             0.417383\n",
       "Lahoma         0            99.561163\n",
       "               1             0.438837\n",
       "Lakeland       0            99.422283\n",
       "               1             0.577717\n",
       "Meridian       0            99.743083\n",
       "               1             0.256917\n",
       "Naples         0            99.302046\n",
       "               1             0.697954\n",
       "Orient         0           100.000000\n",
       "Philadelphia   0            99.829400\n",
       "               1             0.170600\n",
       "Phoenix        0            99.960591\n",
       "               1             0.039409\n",
       "San Antonio    0            99.512671\n",
       "               1             0.487329\n",
       "Thomas         0            99.697885\n",
       "               1             0.302115\n",
       "Uledi          0           100.000000\n",
       "Utica          0            99.510284\n",
       "               1             0.489716\n",
       "Warren         0            99.282453\n",
       "               1             0.717547\n",
       "Washington     0            99.418766\n",
       "               1             0.581234\n",
       "Name: is_fraud, dtype: float64"
      ]
     },
     "execution_count": 63,
     "metadata": {},
     "output_type": "execute_result"
    }
   ],
   "source": [
    "df[mask].groupby('city')['is_fraud'].value_counts(normalize = True)*100"
   ]
  },
  {
   "cell_type": "markdown",
   "metadata": {},
   "source": [
    "This feature fails to separate the categories"
   ]
  },
  {
   "cell_type": "markdown",
   "metadata": {},
   "source": [
    "### state"
   ]
  },
  {
   "cell_type": "code",
   "execution_count": 64,
   "metadata": {},
   "outputs": [
    {
     "data": {
      "text/plain": [
       "51"
      ]
     },
     "execution_count": 64,
     "metadata": {},
     "output_type": "execute_result"
    }
   ],
   "source": [
    "df['state'].nunique()"
   ]
  },
  {
   "cell_type": "code",
   "execution_count": 65,
   "metadata": {},
   "outputs": [
    {
     "data": {
      "text/plain": [
       "TX    94876\n",
       "NY    83501\n",
       "PA    79847\n",
       "CA    56360\n",
       "OH    46480\n",
       "MI    46154\n",
       "IL    43252\n",
       "FL    42671\n",
       "AL    40989\n",
       "MO    38403\n",
       "MN    31714\n",
       "AR    31127\n",
       "NC    30266\n",
       "WI    29368\n",
       "VA    29250\n",
       "SC    29190\n",
       "KY    28475\n",
       "IN    27580\n",
       "IA    26985\n",
       "OK    26671\n",
       "MD    26193\n",
       "GA    26063\n",
       "WV    25691\n",
       "NJ    24603\n",
       "NE    24168\n",
       "KS    22996\n",
       "MS    21188\n",
       "LA    20965\n",
       "WY    19322\n",
       "WA    18924\n",
       "OR    18597\n",
       "TN    17554\n",
       "ME    16505\n",
       "NM    16407\n",
       "ND    14786\n",
       "CO    13880\n",
       "MA    12376\n",
       "SD    12324\n",
       "VT    11768\n",
       "MT    11754\n",
       "AZ    10770\n",
       "UT    10699\n",
       "NH     8278\n",
       "CT     7702\n",
       "NV     5607\n",
       "ID     5545\n",
       "DC     3613\n",
       "HI     2559\n",
       "AK     2120\n",
       "RI      550\n",
       "DE        9\n",
       "Name: state, dtype: int64"
      ]
     },
     "execution_count": 65,
     "metadata": {},
     "output_type": "execute_result"
    }
   ],
   "source": [
    "df['state'].value_counts()"
   ]
  },
  {
   "cell_type": "code",
   "execution_count": 66,
   "metadata": {},
   "outputs": [
    {
     "data": {
      "text/plain": [
       "state  is_fraud\n",
       "AK     0           0.983019\n",
       "       1           0.016981\n",
       "AL     0           0.994755\n",
       "       1           0.005245\n",
       "AR     0           0.994828\n",
       "                     ...   \n",
       "WI     1           0.005550\n",
       "WV     0           0.994317\n",
       "       1           0.005683\n",
       "WY     0           0.994307\n",
       "       1           0.005693\n",
       "Name: is_fraud, Length: 101, dtype: float64"
      ]
     },
     "execution_count": 66,
     "metadata": {},
     "output_type": "execute_result"
    }
   ],
   "source": [
    "df.groupby('state')['is_fraud'].value_counts(normalize = True)"
   ]
  },
  {
   "cell_type": "code",
   "execution_count": 67,
   "metadata": {},
   "outputs": [
    {
     "data": {
      "text/plain": [
       "NY    555\n",
       "TX    479\n",
       "PA    458\n",
       "CA    326\n",
       "OH    321\n",
       "FL    281\n",
       "IL    248\n",
       "MI    238\n",
       "AL    215\n",
       "MN    207\n",
       "VA    198\n",
       "SC    193\n",
       "MO    191\n",
       "NE    180\n",
       "WI    163\n",
       "AR    161\n",
       "MD    157\n",
       "KS    156\n",
       "KY    155\n",
       "OR    149\n",
       "NC    149\n",
       "WV    146\n",
       "GA    146\n",
       "OK    143\n",
       "IA    142\n",
       "IN    142\n",
       "TN    140\n",
       "ME    119\n",
       "NJ    118\n",
       "MS    115\n",
       "CO    113\n",
       "WY    110\n",
       "WA     96\n",
       "LA     91\n",
       "NM     82\n",
       "SD     74\n",
       "VT     72\n",
       "MA     69\n",
       "UT     61\n",
       "NH     59\n",
       "ND     57\n",
       "NV     47\n",
       "AZ     37\n",
       "AK     36\n",
       "MT     32\n",
       "DC     21\n",
       "CT     16\n",
       "RI     15\n",
       "ID     11\n",
       "DE      9\n",
       "HI      7\n",
       "Name: state, dtype: int64"
      ]
     },
     "execution_count": 67,
     "metadata": {},
     "output_type": "execute_result"
    }
   ],
   "source": [
    "df[df['is_fraud'] == 1]['state'].value_counts()"
   ]
  },
  {
   "cell_type": "markdown",
   "metadata": {},
   "source": [
    "### job"
   ]
  },
  {
   "cell_type": "code",
   "execution_count": 68,
   "metadata": {},
   "outputs": [
    {
     "data": {
      "text/plain": [
       "494"
      ]
     },
     "execution_count": 68,
     "metadata": {},
     "output_type": "execute_result"
    }
   ],
   "source": [
    "df['job'].nunique()"
   ]
  },
  {
   "cell_type": "code",
   "execution_count": 70,
   "metadata": {},
   "outputs": [
    {
     "data": {
      "text/plain": [
       "Film/video editor                      9779\n",
       "Exhibition designer                    9199\n",
       "Naval architect                        8684\n",
       "Surveyor, land/geomatics               8680\n",
       "Materials engineer                     8270\n",
       "Designer, ceramics/pottery             8225\n",
       "Systems developer                      7700\n",
       "IT trainer                             7679\n",
       "Financial adviser                      7659\n",
       "Environmental consultant               7547\n",
       "Chartered public finance accountant    7210\n",
       "Scientist, audiological                7174\n",
       "Chief Executive Officer                7172\n",
       "Copywriter, advertising                7146\n",
       "Comptroller                            6730\n",
       "Sub                                    6701\n",
       "Podiatrist                             6653\n",
       "Agricultural consultant                6642\n",
       "Paramedic                              6635\n",
       "Magazine features editor               6602\n",
       "Name: job, dtype: int64"
      ]
     },
     "execution_count": 70,
     "metadata": {},
     "output_type": "execute_result"
    }
   ],
   "source": [
    "df['job'].value_counts().head(20)"
   ]
  },
  {
   "cell_type": "code",
   "execution_count": 72,
   "metadata": {},
   "outputs": [
    {
     "data": {
      "text/plain": [
       "Dancer                               19\n",
       "Air traffic controller               17\n",
       "Careers adviser                      15\n",
       "Sales promotion account executive    14\n",
       "Legal secretary                      12\n",
       "Engineer, site                       12\n",
       "Personnel officer                    12\n",
       "Accountant, chartered                11\n",
       "Homeopath                            11\n",
       "Solicitor                            11\n",
       "Industrial buyer                     10\n",
       "Broadcast journalist                  9\n",
       "Forest/woodland manager               9\n",
       "Information officer                   8\n",
       "Veterinary surgeon                    8\n",
       "Armed forces technical officer        8\n",
       "Ship broker                           7\n",
       "Contracting civil engineer            7\n",
       "Warehouse manager                     7\n",
       "Name: job, dtype: int64"
      ]
     },
     "execution_count": 72,
     "metadata": {},
     "output_type": "execute_result"
    }
   ],
   "source": [
    "df['job'].value_counts().tail(19)"
   ]
  },
  {
   "cell_type": "code",
   "execution_count": 73,
   "metadata": {},
   "outputs": [],
   "source": [
    "idx = df['job'].value_counts().tail(19).index"
   ]
  },
  {
   "cell_type": "code",
   "execution_count": 78,
   "metadata": {},
   "outputs": [],
   "source": [
    "def job_group(row):\n",
    "    if row['job'] in idx:\n",
    "        row['job'] = 'Other'\n",
    "    return row\n",
    "\n",
    "df = df.apply(job_group, axis= 1)"
   ]
  },
  {
   "cell_type": "code",
   "execution_count": 79,
   "metadata": {},
   "outputs": [
    {
     "data": {
      "text/plain": [
       "English as a foreign language teacher    496\n",
       "Producer, television/film/video          493\n",
       "Engineer, structural                     492\n",
       "Hydrogeologist                           485\n",
       "Other                                    207\n",
       "Name: job, dtype: int64"
      ]
     },
     "execution_count": 79,
     "metadata": {},
     "output_type": "execute_result"
    }
   ],
   "source": [
    "df['job'].value_counts().tail()"
   ]
  },
  {
   "cell_type": "markdown",
   "metadata": {},
   "source": [
    "### full_name"
   ]
  },
  {
   "cell_type": "markdown",
   "metadata": {},
   "source": [
    "We will drop this column"
   ]
  },
  {
   "cell_type": "code",
   "execution_count": 81,
   "metadata": {},
   "outputs": [],
   "source": [
    "df.drop('full_name', axis = 1, inplace = True)"
   ]
  },
  {
   "cell_type": "markdown",
   "metadata": {},
   "source": [
    "### zip"
   ]
  },
  {
   "cell_type": "code",
   "execution_count": 101,
   "metadata": {},
   "outputs": [
    {
     "data": {
      "text/plain": [
       "73754    3646\n",
       "34112    3613\n",
       "48088    3597\n",
       "82514    3527\n",
       "49628    3123\n",
       "         ... \n",
       "78208       7\n",
       "38915       7\n",
       "37411       7\n",
       "10018       7\n",
       "61364       7\n",
       "Name: zip, Length: 970, dtype: int64"
      ]
     },
     "execution_count": 101,
     "metadata": {},
     "output_type": "execute_result"
    }
   ],
   "source": [
    "df['zip'].value_counts()"
   ]
  },
  {
   "cell_type": "code",
   "execution_count": null,
   "metadata": {},
   "outputs": [],
   "source": [
    "df['street']"
   ]
  }
 ],
 "metadata": {
  "kernelspec": {
   "display_name": "Python 3",
   "language": "python",
   "name": "python3"
  },
  "language_info": {
   "codemirror_mode": {
    "name": "ipython",
    "version": 3
   },
   "file_extension": ".py",
   "mimetype": "text/x-python",
   "name": "python",
   "nbconvert_exporter": "python",
   "pygments_lexer": "ipython3",
   "version": "3.8.5"
  }
 },
 "nbformat": 4,
 "nbformat_minor": 4
}
