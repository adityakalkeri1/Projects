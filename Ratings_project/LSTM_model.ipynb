{
  "nbformat": 4,
  "nbformat_minor": 0,
  "metadata": {
    "colab": {
      "name": "Comment_Ratings.ipynb",
      "provenance": [],
      "collapsed_sections": [],
      "authorship_tag": "ABX9TyMuGWkQ1gyPelRlBj5KkxTf",
      "include_colab_link": true
    },
    "kernelspec": {
      "name": "python3",
      "display_name": "Python 3"
    },
    "language_info": {
      "name": "python"
    }
  },
  "cells": [
    {
      "cell_type": "markdown",
      "metadata": {
        "id": "view-in-github",
        "colab_type": "text"
      },
      "source": [
        "<a href=\"https://colab.research.google.com/github/adityakalkeri1/Projects/blob/NLP/Ratings_project/LSTM_model.ipynb\" target=\"_parent\"><img src=\"https://colab.research.google.com/assets/colab-badge.svg\" alt=\"Open In Colab\"/></a>"
      ]
    },
    {
      "cell_type": "code",
      "metadata": {
        "colab": {
          "base_uri": "https://localhost:8080/"
        },
        "id": "g_LKlF-0rIj_",
        "outputId": "7cfc2290-d7ac-4280-f389-713f1151f0b5"
      },
      "source": [
        "from google.colab import drive\n",
        "drive.mount('/content/drive/')"
      ],
      "execution_count": null,
      "outputs": [
        {
          "output_type": "stream",
          "text": [
            "Mounted at /content/drive/\n"
          ],
          "name": "stdout"
        }
      ]
    },
    {
      "cell_type": "code",
      "metadata": {
        "id": "ttsKastArXai"
      },
      "source": [
        "import pandas as pd\n",
        "import numpy as np\n",
        "import matplotlib.pyplot as plt\n",
        "import sklearn\n",
        "import tensorflow as tf\n",
        "import nltk\n",
        "from wordcloud import WordCloud, STOPWORDS"
      ],
      "execution_count": null,
      "outputs": []
    },
    {
      "cell_type": "code",
      "metadata": {
        "colab": {
          "base_uri": "https://localhost:8080/"
        },
        "id": "APSGyQvsr-Ig",
        "outputId": "b972183e-5de5-484e-f693-1d8c1e5e9a6d"
      },
      "source": [
        "print('Tensorflow Version', tf.__version__)\n",
        "print('Sklearn Version',  sklearn. __version__ )\n",
        "print('NLTK version', nltk.__version__)"
      ],
      "execution_count": null,
      "outputs": [
        {
          "output_type": "stream",
          "text": [
            "Tensorflow Version 2.5.0\n",
            "Sklearn Version 0.22.2.post1\n",
            "NLTK version 3.2.5\n"
          ],
          "name": "stdout"
        }
      ]
    },
    {
      "cell_type": "code",
      "metadata": {
        "id": "eeQENMyKsb_l"
      },
      "source": [
        "df = pd.read_csv('/content/drive/MyDrive/Datasets/Ratings Project/Full_comments_dataset.csv')"
      ],
      "execution_count": null,
      "outputs": []
    },
    {
      "cell_type": "code",
      "metadata": {
        "colab": {
          "base_uri": "https://localhost:8080/"
        },
        "id": "SZBhxcsGtdk1",
        "outputId": "9b682627-7ec7-413c-acff-08e55db84f3b"
      },
      "source": [
        "df.shape"
      ],
      "execution_count": null,
      "outputs": [
        {
          "output_type": "execute_result",
          "data": {
            "text/plain": [
              "(75245, 5)"
            ]
          },
          "metadata": {
            "tags": []
          },
          "execution_count": 6
        }
      ]
    },
    {
      "cell_type": "code",
      "metadata": {
        "colab": {
          "base_uri": "https://localhost:8080/",
          "height": 206
        },
        "id": "y2QjfO-xtfXs",
        "outputId": "8f47d59b-171c-45ed-ffae-0d714d64d1e6"
      },
      "source": [
        "df.head()"
      ],
      "execution_count": null,
      "outputs": [
        {
          "output_type": "execute_result",
          "data": {
            "text/html": [
              "<div>\n",
              "<style scoped>\n",
              "    .dataframe tbody tr th:only-of-type {\n",
              "        vertical-align: middle;\n",
              "    }\n",
              "\n",
              "    .dataframe tbody tr th {\n",
              "        vertical-align: top;\n",
              "    }\n",
              "\n",
              "    .dataframe thead th {\n",
              "        text-align: right;\n",
              "    }\n",
              "</style>\n",
              "<table border=\"1\" class=\"dataframe\">\n",
              "  <thead>\n",
              "    <tr style=\"text-align: right;\">\n",
              "      <th></th>\n",
              "      <th>Unnamed: 0</th>\n",
              "      <th>Comment</th>\n",
              "      <th>Product</th>\n",
              "      <th>Website</th>\n",
              "      <th>Rating</th>\n",
              "    </tr>\n",
              "  </thead>\n",
              "  <tbody>\n",
              "    <tr>\n",
              "      <th>0</th>\n",
              "      <td>0</td>\n",
              "      <td>Good camera for beginners.</td>\n",
              "      <td>DSLR</td>\n",
              "      <td>Amazon</td>\n",
              "      <td>5</td>\n",
              "    </tr>\n",
              "    <tr>\n",
              "      <th>1</th>\n",
              "      <td>1</td>\n",
              "      <td>Great camera. Perfect product for young buddin...</td>\n",
              "      <td>DSLR</td>\n",
              "      <td>Amazon</td>\n",
              "      <td>5</td>\n",
              "    </tr>\n",
              "    <tr>\n",
              "      <th>2</th>\n",
              "      <td>2</td>\n",
              "      <td>Really impressed with Amazon surprise for deli...</td>\n",
              "      <td>DSLR</td>\n",
              "      <td>Amazon</td>\n",
              "      <td>5</td>\n",
              "    </tr>\n",
              "    <tr>\n",
              "      <th>3</th>\n",
              "      <td>3</td>\n",
              "      <td>I am really fully content with the product. It...</td>\n",
              "      <td>DSLR</td>\n",
              "      <td>Amazon</td>\n",
              "      <td>5</td>\n",
              "    </tr>\n",
              "    <tr>\n",
              "      <th>4</th>\n",
              "      <td>4</td>\n",
              "      <td>This camera is a perfect choice if you are a b...</td>\n",
              "      <td>DSLR</td>\n",
              "      <td>Amazon</td>\n",
              "      <td>5</td>\n",
              "    </tr>\n",
              "  </tbody>\n",
              "</table>\n",
              "</div>"
            ],
            "text/plain": [
              "   Unnamed: 0  ... Rating\n",
              "0           0  ...      5\n",
              "1           1  ...      5\n",
              "2           2  ...      5\n",
              "3           3  ...      5\n",
              "4           4  ...      5\n",
              "\n",
              "[5 rows x 5 columns]"
            ]
          },
          "metadata": {
            "tags": []
          },
          "execution_count": 7
        }
      ]
    },
    {
      "cell_type": "code",
      "metadata": {
        "id": "77hhnLa1uFUV"
      },
      "source": [
        "df.drop('Unnamed: 0', axis = 1, inplace = True)"
      ],
      "execution_count": null,
      "outputs": []
    },
    {
      "cell_type": "code",
      "metadata": {
        "id": "6Q97gkUb4GtE"
      },
      "source": [
        "df.dropna(inplace = True)"
      ],
      "execution_count": null,
      "outputs": []
    },
    {
      "cell_type": "code",
      "metadata": {
        "colab": {
          "base_uri": "https://localhost:8080/"
        },
        "id": "ZLutQib_IA-G",
        "outputId": "005a6e38-780f-4ee6-cb04-ceb89f2c84de"
      },
      "source": [
        "import re\n",
        "nltk.download('stopwords')\n",
        "from nltk.corpus import stopwords\n",
        "stop_words = stopwords.words('english')"
      ],
      "execution_count": null,
      "outputs": [
        {
          "output_type": "stream",
          "text": [
            "[nltk_data] Downloading package stopwords to /root/nltk_data...\n",
            "[nltk_data]   Unzipping corpora/stopwords.zip.\n"
          ],
          "name": "stdout"
        }
      ]
    },
    {
      "cell_type": "code",
      "metadata": {
        "id": "lZH3S4M-IdpR"
      },
      "source": [
        "def text_clean(row):\n",
        "    row = re.sub('\\n', ' ', row)                                                             #For removing \\n in the comments\n",
        "    row = re.sub('@[A-Za-z0-9]', '', row)                                                    #For removing any usernames\n",
        "    row = re.sub(\"\"\"[!\"#$%&'()*+,-./:;<=>?@[\\]^_`{|}~]\"\"\", ' ', row)                         #For removing punctuations\n",
        "    row = row.split()                                                                       #For removing the stopwords\n",
        "    row = [word for word in row if word not in stop_words]\n",
        "    row = (' ').join(row)                                                             \n",
        "    return row\n",
        "df['Comment'] = df['Comment'].apply(text_clean)"
      ],
      "execution_count": null,
      "outputs": []
    },
    {
      "cell_type": "code",
      "metadata": {
        "id": "IP7KNTi5wUfY"
      },
      "source": [
        "#we will be removing words like 'i', 'samsung', 'amazon', 'flipkart', 'the', 'The'\n",
        "remove_words = ['I', 'The', 'Amazon','Flipkart', 'It', 'mobiles', 'TV', 'DSLR', 'Smartwatch', 'Laptop']\n",
        "def words_to_be_removed(row):\n",
        "  row = row.split()                                                                       #For removing the stopwords\n",
        "  row = [word for word in row if word not in remove_words]\n",
        "  row = (' ').join(row)\n",
        "  return row\n",
        "df['Comment'] = df['Comment'].apply(words_to_be_removed)"
      ],
      "execution_count": null,
      "outputs": []
    },
    {
      "cell_type": "code",
      "metadata": {
        "id": "Z4bVc34HJUic"
      },
      "source": [
        "from nltk.stem.porter import PorterStemmer\n",
        "porter =PorterStemmer()\n",
        "def stem_words(row):\n",
        "    row = [porter.stem(word) for word in row]\n",
        "    row = ('').join(row)\n",
        "    return row\n",
        "df['Comment'] = df['Comment'].apply(stem_words)"
      ],
      "execution_count": null,
      "outputs": []
    },
    {
      "cell_type": "code",
      "metadata": {
        "id": "GZGKjRRM6U5J"
      },
      "source": [
        "#Spliting the data into train and testing set\n",
        "from sklearn.model_selection import train_test_split\n",
        "X = df['Comment']\n",
        "y = df['Rating']\n",
        "y = tf.keras.utils.to_categorical(y, dtype = 'int')\n",
        "X_train, X_test, y_train, y_test = train_test_split(X,y, random_state = 10)"
      ],
      "execution_count": null,
      "outputs": []
    },
    {
      "cell_type": "code",
      "metadata": {
        "id": "FWdSLP68nYmY"
      },
      "source": [
        "import tensorflow as tf\n",
        "from tensorflow.keras.preprocessing.text import Tokenizer\n",
        "from tensorflow.keras.preprocessing.sequence import pad_sequences"
      ],
      "execution_count": null,
      "outputs": []
    },
    {
      "cell_type": "code",
      "metadata": {
        "colab": {
          "base_uri": "https://localhost:8080/"
        },
        "id": "5fWdVkQhAGSg",
        "outputId": "2ac7d769-62c5-4fc0-e82b-972bb634da81"
      },
      "source": [
        "tokenizer = Tokenizer(num_words = 19000, oov_token = '<OOV>')\n",
        "\n",
        "tokenizer.fit_on_texts(X_train)\n",
        "\n",
        "word_index = tokenizer.word_index\n",
        "print('Word Index length= ', len(word_index))"
      ],
      "execution_count": null,
      "outputs": [
        {
          "output_type": "stream",
          "text": [
            "Word Index length=  19964\n"
          ],
          "name": "stdout"
        }
      ]
    },
    {
      "cell_type": "code",
      "metadata": {
        "id": "DHAsuI2fAu4Y"
      },
      "source": [
        "max_len = 300"
      ],
      "execution_count": null,
      "outputs": []
    },
    {
      "cell_type": "code",
      "metadata": {
        "id": "Y4QohqOCC1NY"
      },
      "source": [
        "#converting texts to sequences\n",
        "X_train_tokens = tokenizer.texts_to_sequences(X_train)\n",
        "X_test_tokens = tokenizer.texts_to_sequences(X_test) "
      ],
      "execution_count": null,
      "outputs": []
    },
    {
      "cell_type": "code",
      "metadata": {
        "id": "b3lDBZ7GDD_Z"
      },
      "source": [
        "#Padding the sequences\n",
        "X_train_pad = pad_sequences(X_train_tokens, maxlen = max_len, truncating = 'post')\n",
        "X_test_pad = pad_sequences(X_test_tokens, maxlen = max_len, truncating='post')"
      ],
      "execution_count": null,
      "outputs": []
    },
    {
      "cell_type": "code",
      "metadata": {
        "id": "jX-Wm_wDDjbt"
      },
      "source": [
        "#Defining model\n",
        "\n",
        "from tensorflow.keras.models import Sequential\n",
        "from tensorflow.keras.layers import Embedding, Bidirectional, LSTM, Dense\n",
        "\n",
        "model = Sequential([\n",
        "                    Embedding(20000, 64, input_length = max_len),\n",
        "                    LSTM(64, dropout = 0.2, recurrent_dropout = 0.2, return_sequences = True),\n",
        "                    LSTM(64, dropout = 0.2),\n",
        "                    Dense(6, activation = 'sigmoid')\n",
        "])\n"
      ],
      "execution_count": null,
      "outputs": []
    },
    {
      "cell_type": "code",
      "metadata": {
        "id": "bMjGVpU6DkjI"
      },
      "source": [
        "model.compile(optimizer = tf.keras.optimizers.Adam(learning_rate=0.00001),\n",
        "              loss = 'categorical_crossentropy',\n",
        "              metrics = 'accuracy')"
      ],
      "execution_count": null,
      "outputs": []
    },
    {
      "cell_type": "code",
      "metadata": {
        "id": "lLl50-RLB36B"
      },
      "source": [
        "checkpoint_filepath = '/content/drive/MyDrive/Deep learning model/Comments_rating/'\n",
        "model_checkpoint_callback = tf.keras.callbacks.ModelCheckpoint(\n",
        "    filepath=checkpoint_filepath,\n",
        "    save_weights_only=True,\n",
        "    monitor='accuracy',\n",
        "    mode='max',\n",
        "    save_best_only=True)\n"
      ],
      "execution_count": null,
      "outputs": []
    },
    {
      "cell_type": "code",
      "metadata": {
        "id": "D8UNpH4CCnEE"
      },
      "source": [
        "early_stop = tf.keras.callbacks.EarlyStopping(\n",
        "    monitor='accuracy', min_delta=0.01, patience=3, verbose=0,\n",
        "    mode='auto', baseline=None, restore_best_weights=False\n",
        ")\n"
      ],
      "execution_count": null,
      "outputs": []
    },
    {
      "cell_type": "code",
      "metadata": {
        "id": "Y28pUwdvUSQ4"
      },
      "source": [
        "reduce_lr = tf.keras.callbacks.ReduceLROnPlateau(monitor='accuracy', factor=0.1,\n",
        "                              patience=1, min_lr=0.0000001, min_delta=0.05, verbose = 1)"
      ],
      "execution_count": null,
      "outputs": []
    },
    {
      "cell_type": "code",
      "metadata": {
        "colab": {
          "base_uri": "https://localhost:8080/"
        },
        "id": "eZPZJKQWEAER",
        "outputId": "404e9299-310b-42e7-dcbe-a23fabb6bf71"
      },
      "source": [
        "history = model.fit(X_train_pad, y_train, epochs = 1, callbacks=[model_checkpoint_callback, early_stop, reduce_lr])"
      ],
      "execution_count": null,
      "outputs": [
        {
          "output_type": "stream",
          "text": [
            "Epoch 1/5\n",
            "1764/1764 [==============================] - 1008s 571ms/step - loss: 0.2516 - accuracy: 0.8931\n",
            "Epoch 2/5\n",
            "1764/1764 [==============================] - 1021s 579ms/step - loss: 0.2505 - accuracy: 0.8939\n",
            "\n",
            "Epoch 00002: ReduceLROnPlateau reducing learning rate to 9.999999747378752e-07.\n",
            "Epoch 3/5\n",
            "1764/1764 [==============================] - 1005s 569ms/step - loss: 0.2508 - accuracy: 0.8933\n",
            "\n",
            "Epoch 00003: ReduceLROnPlateau reducing learning rate to 1e-07.\n",
            "Epoch 4/5\n",
            "1764/1764 [==============================] - 1006s 571ms/step - loss: 0.2508 - accuracy: 0.8941\n"
          ],
          "name": "stdout"
        }
      ]
    },
    {
      "cell_type": "code",
      "metadata": {
        "colab": {
          "base_uri": "https://localhost:8080/"
        },
        "id": "rkI12a3W7fFX",
        "outputId": "4c6a0766-4711-46b2-da09-594a87f21186"
      },
      "source": [
        "model.evaluate(X_test_pad, y_test)"
      ],
      "execution_count": null,
      "outputs": [
        {
          "output_type": "stream",
          "text": [
            "588/588 [==============================] - 48s 80ms/step - loss: 0.4810 - accuracy: 0.8463\n"
          ],
          "name": "stdout"
        },
        {
          "output_type": "execute_result",
          "data": {
            "text/plain": [
              "[0.48099106550216675, 0.8463132977485657]"
            ]
          },
          "metadata": {
            "tags": []
          },
          "execution_count": 120
        }
      ]
    },
    {
      "cell_type": "code",
      "metadata": {
        "colab": {
          "base_uri": "https://localhost:8080/"
        },
        "id": "guhZ-yrk7gHD",
        "outputId": "21104cef-72d0-4a2d-fde6-a22aa251d135"
      },
      "source": [
        "model.load_weights('/content/drive/MyDrive/Deep learning model/Malignant_comments/')"
      ],
      "execution_count": null,
      "outputs": [
        {
          "output_type": "execute_result",
          "data": {
            "text/plain": [
              "<tensorflow.python.training.tracking.util.CheckpointLoadStatus at 0x7fc25bf7e710>"
            ]
          },
          "metadata": {
            "tags": []
          },
          "execution_count": 123
        }
      ]
    },
    {
      "cell_type": "code",
      "metadata": {
        "colab": {
          "base_uri": "https://localhost:8080/"
        },
        "id": "jAtWPvoV-CGi",
        "outputId": "9acdca18-689f-42c0-fcdc-c5e38d462eaa"
      },
      "source": [
        "model.evaluate(X_test_pad, y_test)"
      ],
      "execution_count": null,
      "outputs": [
        {
          "output_type": "stream",
          "text": [
            "588/588 [==============================] - 46s 79ms/step - loss: 0.4810 - accuracy: 0.8463\n"
          ],
          "name": "stdout"
        },
        {
          "output_type": "execute_result",
          "data": {
            "text/plain": [
              "[0.48099106550216675, 0.8463132977485657]"
            ]
          },
          "metadata": {
            "tags": []
          },
          "execution_count": 124
        }
      ]
    },
    {
      "cell_type": "code",
      "metadata": {
        "id": "bcG5Yhc3VW2J"
      },
      "source": [
        ""
      ],
      "execution_count": null,
      "outputs": []
    }
  ]
}